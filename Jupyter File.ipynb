{
 "cells": [
  {
   "cell_type": "code",
   "execution_count": null,
   "id": "19e99896-c302-493e-acaa-6d6acdcc190c",
   "metadata": {},
   "outputs": [],
   "source": [
    "PAGE-1: Mini Capstone Project\n",
    "Business Problem - Amazon Sales Analyzation in different Amazon Stores"
   ]
  },
  {
   "cell_type": "code",
   "execution_count": 2,
   "id": "47be2caf-24f4-4d82-b62a-f4c8cd01d090",
   "metadata": {},
   "outputs": [],
   "source": [
    "import pymysql"
   ]
  },
  {
   "cell_type": "code",
   "execution_count": 3,
   "id": "9ccfd6c6-56e9-4c4b-858c-a535143b0c2c",
   "metadata": {},
   "outputs": [],
   "source": [
    "conn = pymysql.connect(host = \"localhost\",\n",
    "                       user = \"root\",\n",
    "                       password = \"Gova@8204\",\n",
    "                       database = \"amazon\")"
   ]
  },
  {
   "cell_type": "code",
   "execution_count": 4,
   "id": "3fb5f59a-1538-4888-9dc8-11b9df26ac90",
   "metadata": {},
   "outputs": [],
   "source": [
    "cur = conn.cursor()"
   ]
  },
  {
   "cell_type": "code",
   "execution_count": 5,
   "id": "df388c4e-79e4-472a-9d3d-909cfde9f321",
   "metadata": {},
   "outputs": [],
   "source": [
    "import warnings\n",
    "warnings.filterwarnings('ignore') "
   ]
  },
  {
   "cell_type": "code",
   "execution_count": 6,
   "id": "5552eaf3-26fc-4c61-ab52-5314ca7fd12d",
   "metadata": {},
   "outputs": [],
   "source": [
    "import pandas as pd\n",
    "Q1 = \"SELECT * FROM amazon\"\n",
    "cur.execute(Q1)\n",
    "df = pd.read_sql(Q1,conn)"
   ]
  },
  {
   "cell_type": "code",
   "execution_count": 8,
   "id": "4aa2b4f4-d108-4042-8726-c9d4c12051d6",
   "metadata": {},
   "outputs": [
    {
     "data": {
      "text/html": [
       "<div>\n",
       "<style scoped>\n",
       "    .dataframe tbody tr th:only-of-type {\n",
       "        vertical-align: middle;\n",
       "    }\n",
       "\n",
       "    .dataframe tbody tr th {\n",
       "        vertical-align: top;\n",
       "    }\n",
       "\n",
       "    .dataframe thead th {\n",
       "        text-align: right;\n",
       "    }\n",
       "</style>\n",
       "<table border=\"1\" class=\"dataframe\">\n",
       "  <thead>\n",
       "    <tr style=\"text-align: right;\">\n",
       "      <th></th>\n",
       "      <th>Invoice ID</th>\n",
       "      <th>Branch</th>\n",
       "      <th>City</th>\n",
       "      <th>Customer type</th>\n",
       "      <th>Gender</th>\n",
       "      <th>Product line</th>\n",
       "      <th>Unit price</th>\n",
       "      <th>Quantity</th>\n",
       "      <th>Tax 5%</th>\n",
       "      <th>Total</th>\n",
       "      <th>...</th>\n",
       "      <th>Time</th>\n",
       "      <th>Payment</th>\n",
       "      <th>cogs</th>\n",
       "      <th>gross margin percentage</th>\n",
       "      <th>gross income</th>\n",
       "      <th>Rating</th>\n",
       "      <th>timeofday</th>\n",
       "      <th>dayname</th>\n",
       "      <th>monthname</th>\n",
       "      <th>weekdayno</th>\n",
       "    </tr>\n",
       "  </thead>\n",
       "  <tbody>\n",
       "    <tr>\n",
       "      <th>0</th>\n",
       "      <td>750-67-8428</td>\n",
       "      <td>A</td>\n",
       "      <td>Yangon</td>\n",
       "      <td>Member</td>\n",
       "      <td>Female</td>\n",
       "      <td>Health and beauty</td>\n",
       "      <td>74.69</td>\n",
       "      <td>7</td>\n",
       "      <td>26.1415</td>\n",
       "      <td>548.9715</td>\n",
       "      <td>...</td>\n",
       "      <td>0 days 13:08:00</td>\n",
       "      <td>Ewallet</td>\n",
       "      <td>522.83</td>\n",
       "      <td>4.761905</td>\n",
       "      <td>26.1415</td>\n",
       "      <td>9.1</td>\n",
       "      <td>13</td>\n",
       "      <td>Saturday</td>\n",
       "      <td>January</td>\n",
       "      <td>5</td>\n",
       "    </tr>\n",
       "    <tr>\n",
       "      <th>1</th>\n",
       "      <td>226-31-3081</td>\n",
       "      <td>C</td>\n",
       "      <td>Naypyitaw</td>\n",
       "      <td>Normal</td>\n",
       "      <td>Female</td>\n",
       "      <td>Electronic accessories</td>\n",
       "      <td>15.28</td>\n",
       "      <td>5</td>\n",
       "      <td>3.8200</td>\n",
       "      <td>80.2200</td>\n",
       "      <td>...</td>\n",
       "      <td>0 days 10:29:00</td>\n",
       "      <td>Cash</td>\n",
       "      <td>76.40</td>\n",
       "      <td>4.761905</td>\n",
       "      <td>3.8200</td>\n",
       "      <td>9.6</td>\n",
       "      <td>10</td>\n",
       "      <td>Friday</td>\n",
       "      <td>March</td>\n",
       "      <td>4</td>\n",
       "    </tr>\n",
       "    <tr>\n",
       "      <th>2</th>\n",
       "      <td>631-41-3108</td>\n",
       "      <td>A</td>\n",
       "      <td>Yangon</td>\n",
       "      <td>Normal</td>\n",
       "      <td>Male</td>\n",
       "      <td>Home and lifestyle</td>\n",
       "      <td>46.33</td>\n",
       "      <td>7</td>\n",
       "      <td>16.2155</td>\n",
       "      <td>340.5255</td>\n",
       "      <td>...</td>\n",
       "      <td>0 days 13:23:00</td>\n",
       "      <td>Credit card</td>\n",
       "      <td>324.31</td>\n",
       "      <td>4.761905</td>\n",
       "      <td>16.2155</td>\n",
       "      <td>7.4</td>\n",
       "      <td>13</td>\n",
       "      <td>Sunday</td>\n",
       "      <td>March</td>\n",
       "      <td>6</td>\n",
       "    </tr>\n",
       "    <tr>\n",
       "      <th>3</th>\n",
       "      <td>123-19-1176</td>\n",
       "      <td>A</td>\n",
       "      <td>Yangon</td>\n",
       "      <td>Member</td>\n",
       "      <td>Male</td>\n",
       "      <td>Health and beauty</td>\n",
       "      <td>58.22</td>\n",
       "      <td>8</td>\n",
       "      <td>23.2880</td>\n",
       "      <td>489.0480</td>\n",
       "      <td>...</td>\n",
       "      <td>0 days 20:33:00</td>\n",
       "      <td>Ewallet</td>\n",
       "      <td>465.76</td>\n",
       "      <td>4.761905</td>\n",
       "      <td>23.2880</td>\n",
       "      <td>8.4</td>\n",
       "      <td>20</td>\n",
       "      <td>Sunday</td>\n",
       "      <td>January</td>\n",
       "      <td>6</td>\n",
       "    </tr>\n",
       "    <tr>\n",
       "      <th>4</th>\n",
       "      <td>373-73-7910</td>\n",
       "      <td>A</td>\n",
       "      <td>Yangon</td>\n",
       "      <td>Normal</td>\n",
       "      <td>Male</td>\n",
       "      <td>Sports and travel</td>\n",
       "      <td>86.31</td>\n",
       "      <td>7</td>\n",
       "      <td>30.2085</td>\n",
       "      <td>634.3785</td>\n",
       "      <td>...</td>\n",
       "      <td>0 days 10:37:00</td>\n",
       "      <td>Ewallet</td>\n",
       "      <td>604.17</td>\n",
       "      <td>4.761905</td>\n",
       "      <td>30.2085</td>\n",
       "      <td>5.3</td>\n",
       "      <td>10</td>\n",
       "      <td>Friday</td>\n",
       "      <td>February</td>\n",
       "      <td>4</td>\n",
       "    </tr>\n",
       "  </tbody>\n",
       "</table>\n",
       "<p>5 rows × 21 columns</p>\n",
       "</div>"
      ],
      "text/plain": [
       "    Invoice ID Branch       City Customer type  Gender  \\\n",
       "0  750-67-8428      A     Yangon        Member  Female   \n",
       "1  226-31-3081      C  Naypyitaw        Normal  Female   \n",
       "2  631-41-3108      A     Yangon        Normal    Male   \n",
       "3  123-19-1176      A     Yangon        Member    Male   \n",
       "4  373-73-7910      A     Yangon        Normal    Male   \n",
       "\n",
       "             Product line  Unit price  Quantity   Tax 5%     Total  ...  \\\n",
       "0       Health and beauty       74.69         7  26.1415  548.9715  ...   \n",
       "1  Electronic accessories       15.28         5   3.8200   80.2200  ...   \n",
       "2      Home and lifestyle       46.33         7  16.2155  340.5255  ...   \n",
       "3       Health and beauty       58.22         8  23.2880  489.0480  ...   \n",
       "4       Sports and travel       86.31         7  30.2085  634.3785  ...   \n",
       "\n",
       "             Time      Payment    cogs  gross margin percentage  gross income  \\\n",
       "0 0 days 13:08:00      Ewallet  522.83                 4.761905       26.1415   \n",
       "1 0 days 10:29:00         Cash   76.40                 4.761905        3.8200   \n",
       "2 0 days 13:23:00  Credit card  324.31                 4.761905       16.2155   \n",
       "3 0 days 20:33:00      Ewallet  465.76                 4.761905       23.2880   \n",
       "4 0 days 10:37:00      Ewallet  604.17                 4.761905       30.2085   \n",
       "\n",
       "   Rating  timeofday   dayname monthname weekdayno  \n",
       "0     9.1         13  Saturday   January         5  \n",
       "1     9.6         10    Friday     March         4  \n",
       "2     7.4         13    Sunday     March         6  \n",
       "3     8.4         20    Sunday   January         6  \n",
       "4     5.3         10    Friday  February         4  \n",
       "\n",
       "[5 rows x 21 columns]"
      ]
     },
     "execution_count": 8,
     "metadata": {},
     "output_type": "execute_result"
    }
   ],
   "source": [
    "\n",
    "df.head()"
   ]
  },
  {
   "cell_type": "code",
   "execution_count": 11,
   "id": "08c4a815-9fee-4c5e-8225-aa361f0d1df1",
   "metadata": {},
   "outputs": [
    {
     "name": "stdout",
     "output_type": "stream",
     "text": [
      "(1000, 21)\n",
      "21000\n",
      "2\n",
      "RangeIndex(start=0, stop=1000, step=1)\n"
     ]
    }
   ],
   "source": [
    "print(df.shape)\n",
    "print(df.size)\n",
    "print(df.ndim)\n",
    "print(df.index)"
   ]
  },
  {
   "cell_type": "code",
   "execution_count": 12,
   "id": "9d62f3a4-6ed6-4ea6-a246-1441fe5f48de",
   "metadata": {
    "scrolled": true
   },
   "outputs": [
    {
     "name": "stdout",
     "output_type": "stream",
     "text": [
      "<class 'pandas.core.frame.DataFrame'>\n",
      "RangeIndex: 1000 entries, 0 to 999\n",
      "Data columns (total 21 columns):\n",
      " #   Column                   Non-Null Count  Dtype          \n",
      "---  ------                   --------------  -----          \n",
      " 0   Invoice ID               1000 non-null   object         \n",
      " 1   Branch                   1000 non-null   object         \n",
      " 2   City                     1000 non-null   object         \n",
      " 3   Customer type            1000 non-null   object         \n",
      " 4   Gender                   1000 non-null   object         \n",
      " 5   Product line             1000 non-null   object         \n",
      " 6   Unit price               1000 non-null   float64        \n",
      " 7   Quantity                 1000 non-null   int64          \n",
      " 8   Tax 5%                   1000 non-null   float64        \n",
      " 9   Total                    1000 non-null   float64        \n",
      " 10  Date                     1000 non-null   object         \n",
      " 11  Time                     1000 non-null   timedelta64[ns]\n",
      " 12  Payment                  1000 non-null   object         \n",
      " 13  cogs                     1000 non-null   float64        \n",
      " 14  gross margin percentage  1000 non-null   float64        \n",
      " 15  gross income             1000 non-null   float64        \n",
      " 16  Rating                   1000 non-null   float64        \n",
      " 17  timeofday                1000 non-null   int64          \n",
      " 18  dayname                  1000 non-null   object         \n",
      " 19  monthname                1000 non-null   object         \n",
      " 20  weekdayno                1000 non-null   int64          \n",
      "dtypes: float64(7), int64(3), object(10), timedelta64[ns](1)\n",
      "memory usage: 164.2+ KB\n"
     ]
    }
   ],
   "source": [
    "df.info()"
   ]
  },
  {
   "cell_type": "code",
   "execution_count": 18,
   "id": "7a0bcc29-54b7-42c7-a837-17cd59e27a12",
   "metadata": {},
   "outputs": [
    {
     "data": {
      "text/html": [
       "<div>\n",
       "<style scoped>\n",
       "    .dataframe tbody tr th:only-of-type {\n",
       "        vertical-align: middle;\n",
       "    }\n",
       "\n",
       "    .dataframe tbody tr th {\n",
       "        vertical-align: top;\n",
       "    }\n",
       "\n",
       "    .dataframe thead th {\n",
       "        text-align: right;\n",
       "    }\n",
       "</style>\n",
       "<table border=\"1\" class=\"dataframe\">\n",
       "  <thead>\n",
       "    <tr style=\"text-align: right;\">\n",
       "      <th></th>\n",
       "      <th>distinct_city_count</th>\n",
       "    </tr>\n",
       "  </thead>\n",
       "  <tbody>\n",
       "    <tr>\n",
       "      <th>0</th>\n",
       "      <td>3</td>\n",
       "    </tr>\n",
       "  </tbody>\n",
       "</table>\n",
       "</div>"
      ],
      "text/plain": [
       "   distinct_city_count\n",
       "0                    3"
      ]
     },
     "execution_count": 18,
     "metadata": {},
     "output_type": "execute_result"
    }
   ],
   "source": [
    "#1.\tWhat is the count of distinct cities in the dataset?\n",
    "Q1 = \"SELECT count(distinct City) as distinct_city_count from amazon\"\n",
    "cur.execute(Q1)\n",
    "pd.read_sql(Q1,conn)"
   ]
  },
  {
   "cell_type": "code",
   "execution_count": 19,
   "id": "fcb4b353-5c6d-4fbc-a8b5-86c7cd8fee51",
   "metadata": {},
   "outputs": [
    {
     "data": {
      "text/html": [
       "<div>\n",
       "<style scoped>\n",
       "    .dataframe tbody tr th:only-of-type {\n",
       "        vertical-align: middle;\n",
       "    }\n",
       "\n",
       "    .dataframe tbody tr th {\n",
       "        vertical-align: top;\n",
       "    }\n",
       "\n",
       "    .dataframe thead th {\n",
       "        text-align: right;\n",
       "    }\n",
       "</style>\n",
       "<table border=\"1\" class=\"dataframe\">\n",
       "  <thead>\n",
       "    <tr style=\"text-align: right;\">\n",
       "      <th></th>\n",
       "      <th>Branch</th>\n",
       "      <th>City</th>\n",
       "    </tr>\n",
       "  </thead>\n",
       "  <tbody>\n",
       "    <tr>\n",
       "      <th>0</th>\n",
       "      <td>A</td>\n",
       "      <td>Yangon</td>\n",
       "    </tr>\n",
       "    <tr>\n",
       "      <th>1</th>\n",
       "      <td>B</td>\n",
       "      <td>Mandalay</td>\n",
       "    </tr>\n",
       "    <tr>\n",
       "      <th>2</th>\n",
       "      <td>C</td>\n",
       "      <td>Naypyitaw</td>\n",
       "    </tr>\n",
       "  </tbody>\n",
       "</table>\n",
       "</div>"
      ],
      "text/plain": [
       "  Branch       City\n",
       "0      A     Yangon\n",
       "1      B   Mandalay\n",
       "2      C  Naypyitaw"
      ]
     },
     "execution_count": 19,
     "metadata": {},
     "output_type": "execute_result"
    }
   ],
   "source": [
    "#2.\tFor each branch, what is the corresponding city?\n",
    "Q1 = \"SELECT distinct(Branch), City from amazon order by Branch\"\n",
    "cur.execute(Q1)\n",
    "pd.read_sql(Q1,conn)"
   ]
  },
  {
   "cell_type": "code",
   "execution_count": 20,
   "id": "7e19dc76-a485-4c65-819b-2ddb7023a346",
   "metadata": {},
   "outputs": [
    {
     "data": {
      "text/html": [
       "<div>\n",
       "<style scoped>\n",
       "    .dataframe tbody tr th:only-of-type {\n",
       "        vertical-align: middle;\n",
       "    }\n",
       "\n",
       "    .dataframe tbody tr th {\n",
       "        vertical-align: top;\n",
       "    }\n",
       "\n",
       "    .dataframe thead th {\n",
       "        text-align: right;\n",
       "    }\n",
       "</style>\n",
       "<table border=\"1\" class=\"dataframe\">\n",
       "  <thead>\n",
       "    <tr style=\"text-align: right;\">\n",
       "      <th></th>\n",
       "      <th>distinct_productline_count</th>\n",
       "    </tr>\n",
       "  </thead>\n",
       "  <tbody>\n",
       "    <tr>\n",
       "      <th>0</th>\n",
       "      <td>6</td>\n",
       "    </tr>\n",
       "  </tbody>\n",
       "</table>\n",
       "</div>"
      ],
      "text/plain": [
       "   distinct_productline_count\n",
       "0                           6"
      ]
     },
     "execution_count": 20,
     "metadata": {},
     "output_type": "execute_result"
    }
   ],
   "source": [
    "#3.\tWhat is the count of distinct product lines in the dataset?\n",
    "Q1 = \"SELECT count(distinct `Product line`) as distinct_productline_count from amazon\"\n",
    "cur.execute(Q1)\n",
    "pd.read_sql(Q1,conn)"
   ]
  },
  {
   "cell_type": "code",
   "execution_count": 21,
   "id": "0430b564-a24c-4370-9296-09dbc3415a9f",
   "metadata": {},
   "outputs": [
    {
     "data": {
      "text/html": [
       "<div>\n",
       "<style scoped>\n",
       "    .dataframe tbody tr th:only-of-type {\n",
       "        vertical-align: middle;\n",
       "    }\n",
       "\n",
       "    .dataframe tbody tr th {\n",
       "        vertical-align: top;\n",
       "    }\n",
       "\n",
       "    .dataframe thead th {\n",
       "        text-align: right;\n",
       "    }\n",
       "</style>\n",
       "<table border=\"1\" class=\"dataframe\">\n",
       "  <thead>\n",
       "    <tr style=\"text-align: right;\">\n",
       "      <th></th>\n",
       "      <th>Payment</th>\n",
       "    </tr>\n",
       "  </thead>\n",
       "  <tbody>\n",
       "    <tr>\n",
       "      <th>0</th>\n",
       "      <td>Ewallet</td>\n",
       "    </tr>\n",
       "  </tbody>\n",
       "</table>\n",
       "</div>"
      ],
      "text/plain": [
       "   Payment\n",
       "0  Ewallet"
      ]
     },
     "execution_count": 21,
     "metadata": {},
     "output_type": "execute_result"
    }
   ],
   "source": [
    "#4.\tWhich payment method occurs most frequently?\n",
    "Q1 = \"\"\"WITH paymode as (SELECT Payment, count(*) as Paymode_count from amazon group by Payment)\n",
    "SELECT Payment FROM paymode Where Paymode_count = (SELECT MAX(Paymode_count) FROM paymode)\"\"\"\n",
    "cur.execute(Q1)\n",
    "pd.read_sql(Q1,conn)"
   ]
  },
  {
   "cell_type": "code",
   "execution_count": 22,
   "id": "c9e70dcb-c406-44aa-8d5f-732e1e3b7410",
   "metadata": {},
   "outputs": [
    {
     "data": {
      "text/html": [
       "<div>\n",
       "<style scoped>\n",
       "    .dataframe tbody tr th:only-of-type {\n",
       "        vertical-align: middle;\n",
       "    }\n",
       "\n",
       "    .dataframe tbody tr th {\n",
       "        vertical-align: top;\n",
       "    }\n",
       "\n",
       "    .dataframe thead th {\n",
       "        text-align: right;\n",
       "    }\n",
       "</style>\n",
       "<table border=\"1\" class=\"dataframe\">\n",
       "  <thead>\n",
       "    <tr style=\"text-align: right;\">\n",
       "      <th></th>\n",
       "      <th>Product line</th>\n",
       "    </tr>\n",
       "  </thead>\n",
       "  <tbody>\n",
       "    <tr>\n",
       "      <th>0</th>\n",
       "      <td>Food and beverages</td>\n",
       "    </tr>\n",
       "  </tbody>\n",
       "</table>\n",
       "</div>"
      ],
      "text/plain": [
       "         Product line\n",
       "0  Food and beverages"
      ]
     },
     "execution_count": 22,
     "metadata": {},
     "output_type": "execute_result"
    }
   ],
   "source": [
    "# 5.\tWhich product line has the highest sales?\n",
    "\n",
    "Q1 = \"\"\"With Total_Prod_Sales as (\n",
    "SELECT `Product line`, sum(Total) as Product_Sale FROM amazon group by `Product line`)\n",
    "SELECT `Product line` FROM Total_Prod_Sales WHERE Product_Sale IN (SELECT MAX(Product_Sale) FROM Total_Prod_Sales)\"\"\"\n",
    "cur.execute(Q1)\n",
    "pd.read_sql(Q1,conn)"
   ]
  },
  {
   "cell_type": "code",
   "execution_count": 25,
   "id": "e9c02df2-31e9-4325-862f-8f0ede4205cc",
   "metadata": {},
   "outputs": [
    {
     "data": {
      "text/html": [
       "<div>\n",
       "<style scoped>\n",
       "    .dataframe tbody tr th:only-of-type {\n",
       "        vertical-align: middle;\n",
       "    }\n",
       "\n",
       "    .dataframe tbody tr th {\n",
       "        vertical-align: top;\n",
       "    }\n",
       "\n",
       "    .dataframe thead th {\n",
       "        text-align: right;\n",
       "    }\n",
       "</style>\n",
       "<table border=\"1\" class=\"dataframe\">\n",
       "  <thead>\n",
       "    <tr style=\"text-align: right;\">\n",
       "      <th></th>\n",
       "      <th>Month_Name</th>\n",
       "      <th>Total_Income_Monthly</th>\n",
       "    </tr>\n",
       "  </thead>\n",
       "  <tbody>\n",
       "    <tr>\n",
       "      <th>0</th>\n",
       "      <td>January</td>\n",
       "      <td>5537.708</td>\n",
       "    </tr>\n",
       "    <tr>\n",
       "      <th>1</th>\n",
       "      <td>March</td>\n",
       "      <td>5212.167</td>\n",
       "    </tr>\n",
       "    <tr>\n",
       "      <th>2</th>\n",
       "      <td>February</td>\n",
       "      <td>4629.494</td>\n",
       "    </tr>\n",
       "  </tbody>\n",
       "</table>\n",
       "</div>"
      ],
      "text/plain": [
       "  Month_Name  Total_Income_Monthly\n",
       "0    January              5537.708\n",
       "1      March              5212.167\n",
       "2   February              4629.494"
      ]
     },
     "execution_count": 25,
     "metadata": {},
     "output_type": "execute_result"
    }
   ],
   "source": [
    "#6.\tHow much revenue is generated each month?\n",
    "Q1 = \"SELECT monthname as Month_Name, sum(`gross income`) as Total_Income_Monthly from amazon group by Month_Name\"\n",
    "cur.execute(Q1)\n",
    "pd.read_sql(Q1,conn)"
   ]
  },
  {
   "cell_type": "code",
   "execution_count": 26,
   "id": "7d2f3bfd-bddb-4e3a-b1ad-ecdb892a4f12",
   "metadata": {},
   "outputs": [
    {
     "data": {
      "text/html": [
       "<div>\n",
       "<style scoped>\n",
       "    .dataframe tbody tr th:only-of-type {\n",
       "        vertical-align: middle;\n",
       "    }\n",
       "\n",
       "    .dataframe tbody tr th {\n",
       "        vertical-align: top;\n",
       "    }\n",
       "\n",
       "    .dataframe thead th {\n",
       "        text-align: right;\n",
       "    }\n",
       "</style>\n",
       "<table border=\"1\" class=\"dataframe\">\n",
       "  <thead>\n",
       "    <tr style=\"text-align: right;\">\n",
       "      <th></th>\n",
       "      <th>Month_Name</th>\n",
       "      <th>Total_Income_Monthly</th>\n",
       "    </tr>\n",
       "  </thead>\n",
       "  <tbody>\n",
       "    <tr>\n",
       "      <th>0</th>\n",
       "      <td>January</td>\n",
       "      <td>5537.708</td>\n",
       "    </tr>\n",
       "    <tr>\n",
       "      <th>1</th>\n",
       "      <td>March</td>\n",
       "      <td>5212.167</td>\n",
       "    </tr>\n",
       "    <tr>\n",
       "      <th>2</th>\n",
       "      <td>February</td>\n",
       "      <td>4629.494</td>\n",
       "    </tr>\n",
       "  </tbody>\n",
       "</table>\n",
       "</div>"
      ],
      "text/plain": [
       "  Month_Name  Total_Income_Monthly\n",
       "0    January              5537.708\n",
       "1      March              5212.167\n",
       "2   February              4629.494"
      ]
     },
     "execution_count": 26,
     "metadata": {},
     "output_type": "execute_result"
    }
   ],
   "source": [
    "#7.\tIn which month did the cost of goods sold reach its peak?\n",
    "Q = \"\"\"with M_cogs as (\n",
    "SELECT monthname as Month_Name, sum(cogs) as TotalCost_OfSoldGoods from amazon group by Month_Name )\n",
    "SELECT Month_Name from M_cogs WHERE TotalCost_OfSoldGoods = (SELECT MAX(TotalCost_OfSoldGoods) FROM M_cogs)\"\"\"\n",
    "cur.execute(Q1)\n",
    "pd.read_sql(Q1,conn)"
   ]
  },
  {
   "cell_type": "code",
   "execution_count": 27,
   "id": "712bc2b0-ed14-4d16-9f1b-576ba83efc5b",
   "metadata": {},
   "outputs": [
    {
     "data": {
      "text/html": [
       "<div>\n",
       "<style scoped>\n",
       "    .dataframe tbody tr th:only-of-type {\n",
       "        vertical-align: middle;\n",
       "    }\n",
       "\n",
       "    .dataframe tbody tr th {\n",
       "        vertical-align: top;\n",
       "    }\n",
       "\n",
       "    .dataframe thead th {\n",
       "        text-align: right;\n",
       "    }\n",
       "</style>\n",
       "<table border=\"1\" class=\"dataframe\">\n",
       "  <thead>\n",
       "    <tr style=\"text-align: right;\">\n",
       "      <th></th>\n",
       "      <th>Product line</th>\n",
       "    </tr>\n",
       "  </thead>\n",
       "  <tbody>\n",
       "    <tr>\n",
       "      <th>0</th>\n",
       "      <td>Food and beverages</td>\n",
       "    </tr>\n",
       "  </tbody>\n",
       "</table>\n",
       "</div>"
      ],
      "text/plain": [
       "         Product line\n",
       "0  Food and beverages"
      ]
     },
     "execution_count": 27,
     "metadata": {},
     "output_type": "execute_result"
    }
   ],
   "source": [
    "#8.\tWhich product line generated the highest revenue?\n",
    "Q1 = \"\"\"With Prod_Wise_Rev as (\n",
    "SELECT `Product line`, sum(`gross income`) as Product_Revenue FROM amazon group by `Product line`)\n",
    "SELECT `Product line` FROM  Prod_Wise_Rev WHERE Product_Revenue IN (SELECT MAX(Product_Revenue) FROM Prod_Wise_Rev)\"\"\"\n",
    "cur.execute(Q1)\n",
    "pd.read_sql(Q1,conn)"
   ]
  },
  {
   "cell_type": "code",
   "execution_count": 28,
   "id": "4846bdb7-ce4f-4d66-930a-0d5df7016215",
   "metadata": {},
   "outputs": [
    {
     "data": {
      "text/html": [
       "<div>\n",
       "<style scoped>\n",
       "    .dataframe tbody tr th:only-of-type {\n",
       "        vertical-align: middle;\n",
       "    }\n",
       "\n",
       "    .dataframe tbody tr th {\n",
       "        vertical-align: top;\n",
       "    }\n",
       "\n",
       "    .dataframe thead th {\n",
       "        text-align: right;\n",
       "    }\n",
       "</style>\n",
       "<table border=\"1\" class=\"dataframe\">\n",
       "  <thead>\n",
       "    <tr style=\"text-align: right;\">\n",
       "      <th></th>\n",
       "      <th>City</th>\n",
       "    </tr>\n",
       "  </thead>\n",
       "  <tbody>\n",
       "    <tr>\n",
       "      <th>0</th>\n",
       "      <td>Naypyitaw</td>\n",
       "    </tr>\n",
       "  </tbody>\n",
       "</table>\n",
       "</div>"
      ],
      "text/plain": [
       "        City\n",
       "0  Naypyitaw"
      ]
     },
     "execution_count": 28,
     "metadata": {},
     "output_type": "execute_result"
    }
   ],
   "source": [
    "#9.\tIn which city was the highest revenue recorded?\n",
    "Q1 = \"\"\"WITH cgr as (SELECT City, sum(`gross income`) as City_Gross_Income from amazon group by City)\n",
    "SELECT City from cgr where City_Gross_Income IN (SELECT max(City_Gross_Income) from cgr)\"\"\"\n",
    "cur.execute(Q1)\n",
    "pd.read_sql(Q1,conn)"
   ]
  },
  {
   "cell_type": "code",
   "execution_count": 29,
   "id": "338d7d51-e45a-4808-bc8a-aa70c5817d3b",
   "metadata": {},
   "outputs": [
    {
     "data": {
      "text/html": [
       "<div>\n",
       "<style scoped>\n",
       "    .dataframe tbody tr th:only-of-type {\n",
       "        vertical-align: middle;\n",
       "    }\n",
       "\n",
       "    .dataframe tbody tr th {\n",
       "        vertical-align: top;\n",
       "    }\n",
       "\n",
       "    .dataframe thead th {\n",
       "        text-align: right;\n",
       "    }\n",
       "</style>\n",
       "<table border=\"1\" class=\"dataframe\">\n",
       "  <thead>\n",
       "    <tr style=\"text-align: right;\">\n",
       "      <th></th>\n",
       "      <th>Product line</th>\n",
       "    </tr>\n",
       "  </thead>\n",
       "  <tbody>\n",
       "    <tr>\n",
       "      <th>0</th>\n",
       "      <td>Food and beverages</td>\n",
       "    </tr>\n",
       "  </tbody>\n",
       "</table>\n",
       "</div>"
      ],
      "text/plain": [
       "         Product line\n",
       "0  Food and beverages"
      ]
     },
     "execution_count": 29,
     "metadata": {},
     "output_type": "execute_result"
    }
   ],
   "source": [
    "#10.\tWhich product line incurred the highest Value Added Tax?\n",
    "Q1 = \"\"\"SELECT `Product line` FROM(\n",
    "SELECT `Product line`, sum(`Tax 5%`) as Tax FROM amazon group by `Product line` order by Tax desc limit 1) as ht\"\"\"\n",
    "cur.execute(Q1)\n",
    "pd.read_sql(Q1,conn)"
   ]
  },
  {
   "cell_type": "code",
   "execution_count": 30,
   "id": "621cb022-b5e3-4f9a-abfb-ce2eed948a04",
   "metadata": {},
   "outputs": [
    {
     "data": {
      "text/html": [
       "<div>\n",
       "<style scoped>\n",
       "    .dataframe tbody tr th:only-of-type {\n",
       "        vertical-align: middle;\n",
       "    }\n",
       "\n",
       "    .dataframe tbody tr th {\n",
       "        vertical-align: top;\n",
       "    }\n",
       "\n",
       "    .dataframe thead th {\n",
       "        text-align: right;\n",
       "    }\n",
       "</style>\n",
       "<table border=\"1\" class=\"dataframe\">\n",
       "  <thead>\n",
       "    <tr style=\"text-align: right;\">\n",
       "      <th></th>\n",
       "      <th>Product_Line</th>\n",
       "      <th>GOOD/BAD_Rating</th>\n",
       "    </tr>\n",
       "  </thead>\n",
       "  <tbody>\n",
       "    <tr>\n",
       "      <th>0</th>\n",
       "      <td>Electronic accessories</td>\n",
       "      <td>BAD</td>\n",
       "    </tr>\n",
       "    <tr>\n",
       "      <th>1</th>\n",
       "      <td>Fashion accessories</td>\n",
       "      <td>BAD</td>\n",
       "    </tr>\n",
       "    <tr>\n",
       "      <th>2</th>\n",
       "      <td>Food and beverages</td>\n",
       "      <td>BAD</td>\n",
       "    </tr>\n",
       "    <tr>\n",
       "      <th>3</th>\n",
       "      <td>Health and beauty</td>\n",
       "      <td>GOOD</td>\n",
       "    </tr>\n",
       "    <tr>\n",
       "      <th>4</th>\n",
       "      <td>Home and lifestyle</td>\n",
       "      <td>GOOD</td>\n",
       "    </tr>\n",
       "    <tr>\n",
       "      <th>5</th>\n",
       "      <td>Sports and travel</td>\n",
       "      <td>GOOD</td>\n",
       "    </tr>\n",
       "  </tbody>\n",
       "</table>\n",
       "</div>"
      ],
      "text/plain": [
       "             Product_Line GOOD/BAD_Rating\n",
       "0  Electronic accessories             BAD\n",
       "1     Fashion accessories             BAD\n",
       "2      Food and beverages             BAD\n",
       "3       Health and beauty            GOOD\n",
       "4      Home and lifestyle            GOOD\n",
       "5       Sports and travel            GOOD"
      ]
     },
     "execution_count": 30,
     "metadata": {},
     "output_type": "execute_result"
    }
   ],
   "source": [
    "#11.For each product line, add a column indicating \"Good\" if its sales are above average, otherwise \"Bad.\"\n",
    "Q1 = \"\"\"SELECT Product_Line,\n",
    "Case \n",
    "When prod_Avg_Sale>All_Avg_Sale THEN \"GOOD\"\n",
    "ELSE \"BAD\" END AS \"GOOD/BAD_Rating\"\n",
    "FROM(\n",
    "SELECT distinct(`Product line`) as Product_Line, \n",
    "avg(Total) over(partition by `Product line`) as prod_Avg_Sale,\n",
    "avg(Total) over() as All_Avg_Sale from amazon \n",
    ") as Sale\"\"\"\n",
    "cur.execute(Q1)\n",
    "pd.read_sql(Q1,conn)"
   ]
  },
  {
   "cell_type": "code",
   "execution_count": 31,
   "id": "88bc430e-2c71-4ca0-9351-4bf7636c2edc",
   "metadata": {},
   "outputs": [
    {
     "data": {
      "text/html": [
       "<div>\n",
       "<style scoped>\n",
       "    .dataframe tbody tr th:only-of-type {\n",
       "        vertical-align: middle;\n",
       "    }\n",
       "\n",
       "    .dataframe tbody tr th {\n",
       "        vertical-align: top;\n",
       "    }\n",
       "\n",
       "    .dataframe thead th {\n",
       "        text-align: right;\n",
       "    }\n",
       "</style>\n",
       "<table border=\"1\" class=\"dataframe\">\n",
       "  <thead>\n",
       "    <tr style=\"text-align: right;\">\n",
       "      <th></th>\n",
       "      <th>Branch</th>\n",
       "    </tr>\n",
       "  </thead>\n",
       "  <tbody>\n",
       "    <tr>\n",
       "      <th>0</th>\n",
       "      <td>C</td>\n",
       "    </tr>\n",
       "  </tbody>\n",
       "</table>\n",
       "</div>"
      ],
      "text/plain": [
       "  Branch\n",
       "0      C"
      ]
     },
     "execution_count": 31,
     "metadata": {},
     "output_type": "execute_result"
    }
   ],
   "source": [
    "#12.Identify the branch that exceeded the average number of products sold.\n",
    "Q1 = \"\"\"SELECT Branch \n",
    "FROM( \n",
    "\tSELECT distinct(Branch), \n",
    "\tavg(Quantity) over(partition by  Branch) as prod_Avg_Sale,\n",
    "\tavg(Quantity) over() as All_Prod_Avg_Sale from amazon\n",
    "\t) as Branch_Sale \n",
    "\tWHERE prod_Avg_Sale>All_Prod_Avg_Sale\"\"\"\n",
    "cur.execute(Q1)\n",
    "pd.read_sql(Q1,conn)"
   ]
  },
  {
   "cell_type": "code",
   "execution_count": 106,
   "id": "542216a6-33b7-4ebb-8363-7e19cda34784",
   "metadata": {},
   "outputs": [
    {
     "data": {
      "text/html": [
       "<div>\n",
       "<style scoped>\n",
       "    .dataframe tbody tr th:only-of-type {\n",
       "        vertical-align: middle;\n",
       "    }\n",
       "\n",
       "    .dataframe tbody tr th {\n",
       "        vertical-align: top;\n",
       "    }\n",
       "\n",
       "    .dataframe thead th {\n",
       "        text-align: right;\n",
       "    }\n",
       "</style>\n",
       "<table border=\"1\" class=\"dataframe\">\n",
       "  <thead>\n",
       "    <tr style=\"text-align: right;\">\n",
       "      <th></th>\n",
       "      <th>Gender</th>\n",
       "      <th>Product line</th>\n",
       "      <th>purchase_count</th>\n",
       "    </tr>\n",
       "  </thead>\n",
       "  <tbody>\n",
       "    <tr>\n",
       "      <th>0</th>\n",
       "      <td>Female</td>\n",
       "      <td>Fashion accessories</td>\n",
       "      <td>96</td>\n",
       "    </tr>\n",
       "    <tr>\n",
       "      <th>1</th>\n",
       "      <td>Female</td>\n",
       "      <td>Food and beverages</td>\n",
       "      <td>90</td>\n",
       "    </tr>\n",
       "    <tr>\n",
       "      <th>2</th>\n",
       "      <td>Female</td>\n",
       "      <td>Sports and travel</td>\n",
       "      <td>88</td>\n",
       "    </tr>\n",
       "    <tr>\n",
       "      <th>3</th>\n",
       "      <td>Female</td>\n",
       "      <td>Electronic accessories</td>\n",
       "      <td>84</td>\n",
       "    </tr>\n",
       "    <tr>\n",
       "      <th>4</th>\n",
       "      <td>Female</td>\n",
       "      <td>Home and lifestyle</td>\n",
       "      <td>79</td>\n",
       "    </tr>\n",
       "  </tbody>\n",
       "</table>\n",
       "</div>"
      ],
      "text/plain": [
       "   Gender            Product line  purchase_count\n",
       "0  Female     Fashion accessories              96\n",
       "1  Female      Food and beverages              90\n",
       "2  Female       Sports and travel              88\n",
       "3  Female  Electronic accessories              84\n",
       "4  Female      Home and lifestyle              79"
      ]
     },
     "execution_count": 106,
     "metadata": {},
     "output_type": "execute_result"
    }
   ],
   "source": [
    "#13.\tWhich product line is most frequently associated with each gender?\n",
    "Q1 = \"\"\"SELECT Gender, `Product line`, purchase_count\n",
    "FROM (\n",
    "    SELECT Gender, `Product line` , COUNT(*) AS purchase_count,\n",
    "    RANK() OVER (PARTITION BY Gender ORDER BY COUNT(*) DESC) AS prod_rank\n",
    "    FROM amazon GROUP BY Gender, `Product line`\n",
    ") AS gender_product_counts\"\"\"\n",
    "cur.execute(Q1)\n",
    "df = pd.read_sql(Q1,conn)\n",
    "df.head()"
   ]
  },
  {
   "cell_type": "code",
   "execution_count": 121,
   "id": "1e9797d2-cee0-4fb3-8a18-41c7dab2dc88",
   "metadata": {},
   "outputs": [
    {
     "data": {
      "image/png": "[encoded data removed]",
      "text/plain": [
       "<Figure size 800x400 with 1 Axes>"
      ]
     },
     "metadata": {},
     "output_type": "display_data"
    }
   ],
   "source": [
    "import seaborn as sns\n",
    "import matplotlib.pyplot as plt\n",
    "# Plotting using Seaborn\n",
    "plt.figure(figsize=(8, 4))\n",
    "sns.barplot(data=df, x='Product line', y='purchase_count', hue='Gender', palette='Set2')\n",
    "plt.title('Purchase Count by Gender and Product Line')\n",
    "plt.xlabel('Product Line')\n",
    "plt.ylabel('Purchase Count')\n",
    "plt.legend(title='Gender')\n",
    "plt.xticks(rotation=5)  # Rotate x-axis labels for better readability\n",
    "plt.tight_layout()\n",
    "plt.show()"
   ]
  },
  {
   "cell_type": "code",
   "execution_count": 33,
   "id": "609d4c22-e4a8-4a5a-8dc3-de77397ddec3",
   "metadata": {},
   "outputs": [
    {
     "data": {
      "text/html": [
       "<div>\n",
       "<style scoped>\n",
       "    .dataframe tbody tr th:only-of-type {\n",
       "        vertical-align: middle;\n",
       "    }\n",
       "\n",
       "    .dataframe tbody tr th {\n",
       "        vertical-align: top;\n",
       "    }\n",
       "\n",
       "    .dataframe thead th {\n",
       "        text-align: right;\n",
       "    }\n",
       "</style>\n",
       "<table border=\"1\" class=\"dataframe\">\n",
       "  <thead>\n",
       "    <tr style=\"text-align: right;\">\n",
       "      <th></th>\n",
       "      <th>Product line</th>\n",
       "      <th>Avg_Rating_each_Product</th>\n",
       "    </tr>\n",
       "  </thead>\n",
       "  <tbody>\n",
       "    <tr>\n",
       "      <th>0</th>\n",
       "      <td>Food and beverages</td>\n",
       "      <td>7.113218</td>\n",
       "    </tr>\n",
       "    <tr>\n",
       "      <th>1</th>\n",
       "      <td>Fashion accessories</td>\n",
       "      <td>7.029213</td>\n",
       "    </tr>\n",
       "    <tr>\n",
       "      <th>2</th>\n",
       "      <td>Health and beauty</td>\n",
       "      <td>7.003289</td>\n",
       "    </tr>\n",
       "    <tr>\n",
       "      <th>3</th>\n",
       "      <td>Electronic accessories</td>\n",
       "      <td>6.924706</td>\n",
       "    </tr>\n",
       "    <tr>\n",
       "      <th>4</th>\n",
       "      <td>Sports and travel</td>\n",
       "      <td>6.916265</td>\n",
       "    </tr>\n",
       "    <tr>\n",
       "      <th>5</th>\n",
       "      <td>Home and lifestyle</td>\n",
       "      <td>6.837500</td>\n",
       "    </tr>\n",
       "  </tbody>\n",
       "</table>\n",
       "</div>"
      ],
      "text/plain": [
       "             Product line  Avg_Rating_each_Product\n",
       "0      Food and beverages                 7.113218\n",
       "1     Fashion accessories                 7.029213\n",
       "2       Health and beauty                 7.003289\n",
       "3  Electronic accessories                 6.924706\n",
       "4       Sports and travel                 6.916265\n",
       "5      Home and lifestyle                 6.837500"
      ]
     },
     "execution_count": 33,
     "metadata": {},
     "output_type": "execute_result"
    }
   ],
   "source": [
    "#14.\tCalculate the average rating for each product line.\n",
    "Q1 = \"\"\"SELECT distinct(`Product line`), avg(Rating) over(partition by `Product line`) as Avg_Rating_each_Product from amazon \n",
    "order by Avg_Rating_each_Product desc\"\"\"\n",
    "cur.execute(Q1)\n",
    "pd.read_sql(Q1,conn)"
   ]
  },
  {
   "cell_type": "code",
   "execution_count": 132,
   "id": "eba1389f-455f-4ed1-a3a6-732ca009c285",
   "metadata": {
    "scrolled": true
   },
   "outputs": [
    {
     "data": {
      "text/html": [
       "<div>\n",
       "<style scoped>\n",
       "    .dataframe tbody tr th:only-of-type {\n",
       "        vertical-align: middle;\n",
       "    }\n",
       "\n",
       "    .dataframe tbody tr th {\n",
       "        vertical-align: top;\n",
       "    }\n",
       "\n",
       "    .dataframe thead th {\n",
       "        text-align: right;\n",
       "    }\n",
       "</style>\n",
       "<table border=\"1\" class=\"dataframe\">\n",
       "  <thead>\n",
       "    <tr style=\"text-align: right;\">\n",
       "      <th></th>\n",
       "      <th>dayname</th>\n",
       "      <th>weekdayno</th>\n",
       "      <th>sales_occurrences</th>\n",
       "    </tr>\n",
       "  </thead>\n",
       "  <tbody>\n",
       "    <tr>\n",
       "      <th>0</th>\n",
       "      <td>Monday</td>\n",
       "      <td>0</td>\n",
       "      <td>125</td>\n",
       "    </tr>\n",
       "    <tr>\n",
       "      <th>1</th>\n",
       "      <td>Tuesday</td>\n",
       "      <td>1</td>\n",
       "      <td>158</td>\n",
       "    </tr>\n",
       "    <tr>\n",
       "      <th>2</th>\n",
       "      <td>Wednesday</td>\n",
       "      <td>2</td>\n",
       "      <td>143</td>\n",
       "    </tr>\n",
       "    <tr>\n",
       "      <th>3</th>\n",
       "      <td>Thursday</td>\n",
       "      <td>3</td>\n",
       "      <td>138</td>\n",
       "    </tr>\n",
       "    <tr>\n",
       "      <th>4</th>\n",
       "      <td>Friday</td>\n",
       "      <td>4</td>\n",
       "      <td>139</td>\n",
       "    </tr>\n",
       "    <tr>\n",
       "      <th>5</th>\n",
       "      <td>Saturday</td>\n",
       "      <td>5</td>\n",
       "      <td>164</td>\n",
       "    </tr>\n",
       "    <tr>\n",
       "      <th>6</th>\n",
       "      <td>Sunday</td>\n",
       "      <td>6</td>\n",
       "      <td>133</td>\n",
       "    </tr>\n",
       "  </tbody>\n",
       "</table>\n",
       "</div>"
      ],
      "text/plain": [
       "     dayname  weekdayno  sales_occurrences\n",
       "0     Monday          0                125\n",
       "1    Tuesday          1                158\n",
       "2  Wednesday          2                143\n",
       "3   Thursday          3                138\n",
       "4     Friday          4                139\n",
       "5   Saturday          5                164\n",
       "6     Sunday          6                133"
      ]
     },
     "execution_count": 132,
     "metadata": {},
     "output_type": "execute_result"
    }
   ],
   "source": [
    "#15.\tCount the sales occurrences for each time of day on every weekday.\n",
    "#Day Wise Orders\n",
    "Q1 = \"\"\"SELECT dayname, weekdayno, count(*) as sales_occurrences from amazon group by dayname, weekdayno order by weekdayno \"\"\"\n",
    "cur.execute(Q1)\n",
    "df = pd.read_sql(Q1,conn)\n",
    "df"
   ]
  },
  {
   "cell_type": "code",
   "execution_count": 133,
   "id": "c1adefe8-4745-4292-a8cf-97fc0da5e351",
   "metadata": {},
   "outputs": [
    {
     "data": {
      "image/png": "[encoded data removed]",
      "text/plain": [
       "<Figure size 640x480 with 1 Axes>"
      ]
     },
     "metadata": {},
     "output_type": "display_data"
    }
   ],
   "source": [
    "plt.plot(df[\"dayname\"], df[\"sales_occurrences\"], marker = 'H', color = 'darkblue', ms = 10, lw = 5)\n",
    "plt.xlabel(\"WeekDay\")\n",
    "plt.ylabel(\"Order Count\")\n",
    "plt.title(\"Orders Trend Day wise\")\n",
    "plt.show()"
   ]
  },
  {
   "cell_type": "code",
   "execution_count": 35,
   "id": "0c6bba40-5eb3-41c8-b85c-b6cb8ce0f882",
   "metadata": {},
   "outputs": [
    {
     "data": {
      "text/html": [
       "<div>\n",
       "<style scoped>\n",
       "    .dataframe tbody tr th:only-of-type {\n",
       "        vertical-align: middle;\n",
       "    }\n",
       "\n",
       "    .dataframe tbody tr th {\n",
       "        vertical-align: top;\n",
       "    }\n",
       "\n",
       "    .dataframe thead th {\n",
       "        text-align: right;\n",
       "    }\n",
       "</style>\n",
       "<table border=\"1\" class=\"dataframe\">\n",
       "  <thead>\n",
       "    <tr style=\"text-align: right;\">\n",
       "      <th></th>\n",
       "      <th>Customer type</th>\n",
       "    </tr>\n",
       "  </thead>\n",
       "  <tbody>\n",
       "    <tr>\n",
       "      <th>0</th>\n",
       "      <td>Member</td>\n",
       "    </tr>\n",
       "  </tbody>\n",
       "</table>\n",
       "</div>"
      ],
      "text/plain": [
       "  Customer type\n",
       "0        Member"
      ]
     },
     "execution_count": 35,
     "metadata": {},
     "output_type": "execute_result"
    }
   ],
   "source": [
    "#16.\tIdentify the customer type contributing the highest revenue.\n",
    "\n",
    "Q1 = \"\"\"SELECT `Customer type` FROM(\n",
    "SELECT `Customer type`, sum(`gross income`) as customer_wise_revenue from amazon group by `Customer type`\n",
    "order by customer_wise_revenue desc LIMIT 1) as sq1\"\"\"\n",
    "cur.execute(Q1)\n",
    "pd.read_sql(Q1,conn)"
   ]
  },
  {
   "cell_type": "code",
   "execution_count": 39,
   "id": "28b543d4-d8be-436b-b997-7528e468c5f4",
   "metadata": {},
   "outputs": [
    {
     "name": "stdout",
     "output_type": "stream",
     "text": [
      "        City  VAT_percentage\n",
      "0     Yangon        4.761905\n",
      "1  Naypyitaw        4.761905\n",
      "2   Mandalay        4.761905\n",
      "\n",
      "        City\n",
      "0  Naypyitaw\n",
      "1   Mandalay\n"
     ]
    }
   ],
   "source": [
    "# 17.\tDetermine the city with the highest VAT percentage.\n",
    "Q1 = \"SELECT City, (sum(`Tax 5%`)/sum(Total))*100 as VAT_percentage from amazon group by  City\"\n",
    "cur.execute(Q1)\n",
    "print(pd.read_sql(Q1,conn))\n",
    "print()\n",
    "Q2 = \"\"\"with vat as(\n",
    "SELECT City, (sum(`Tax 5%`)/sum(Total))*100 as VAT_percentage from amazon group by  City)\n",
    "SELECT City from vat where VAT_percentage IN (SELECT MAX(VAT_percentage) FROM vat)\"\"\"\n",
    "cur.execute(Q2)\n",
    "print(pd.read_sql(Q2,conn))"
   ]
  },
  {
   "cell_type": "code",
   "execution_count": 40,
   "id": "8f1ec7dd-b779-4dab-802e-981b3fa50fde",
   "metadata": {},
   "outputs": [
    {
     "name": "stdout",
     "output_type": "stream",
     "text": [
      "  Customer type\n",
      "0        Member\n"
     ]
    }
   ],
   "source": [
    "#18.\tIdentify the customer type with the highest VAT payments.\n",
    "Q1 = \"\"\"with customer_vat as(\n",
    "SELECT `Customer type`, sum(`Tax 5%`) as customer_VAT_amount from amazon group by  `Customer type`)\n",
    "SELECT `Customer type` from customer_vat where customer_VAT_amount IN (SELECT MAX(customer_VAT_amount) FROM customer_vat)\"\"\"\n",
    "cur.execute(Q1)\n",
    "print(pd.read_sql(Q1,conn))"
   ]
  },
  {
   "cell_type": "code",
   "execution_count": 41,
   "id": "d2ad341c-dcd9-4396-80ad-ef4445f1b7de",
   "metadata": {},
   "outputs": [
    {
     "name": "stdout",
     "output_type": "stream",
     "text": [
      "   Distinct_Customer_Types\n",
      "0                        2\n"
     ]
    }
   ],
   "source": [
    "#19.\tWhat is the count of distinct customer types in the dataset?\n",
    "Q1 = \"SELECT count(distinct(`Customer type`)) as Distinct_Customer_Types from amazon\"\n",
    "cur.execute(Q1)\n",
    "print(pd.read_sql(Q1,conn))"
   ]
  },
  {
   "cell_type": "code",
   "execution_count": 42,
   "id": "865f3211-ca7d-4beb-8f74-49b842a17d10",
   "metadata": {},
   "outputs": [
    {
     "name": "stdout",
     "output_type": "stream",
     "text": [
      "   Distinct_Payment_Types\n",
      "0                       3\n"
     ]
    }
   ],
   "source": [
    "#20.\tWhat is the count of distinct payment methods in the dataset?\n",
    "Q1 = \"SELECT count(distinct(Payment)) as Distinct_Payment_Types from amazon\"\n",
    "cur.execute(Q1)\n",
    "print(pd.read_sql(Q1,conn))"
   ]
  },
  {
   "cell_type": "code",
   "execution_count": 43,
   "id": "2fc3002d-be95-497e-8db1-597d2f899737",
   "metadata": {},
   "outputs": [
    {
     "name": "stdout",
     "output_type": "stream",
     "text": [
      "  Customer type\n",
      "0        Member\n"
     ]
    }
   ],
   "source": [
    "#21.\tWhich customer type occurs most frequently?\n",
    "Q1 = \"\"\"SELECT `Customer type` FROM amazon\n",
    "GROUP BY `Customer type` HAVING COUNT(*) = \n",
    "(\n",
    "    SELECT MAX(type_count) FROM (SELECT COUNT(*) AS type_count FROM amazon\n",
    "        GROUP BY `Customer type`\n",
    "    ) AS cust_type_counts\n",
    ")\"\"\"\n",
    "cur.execute(Q1)\n",
    "print(pd.read_sql(Q1,conn))"
   ]
  },
  {
   "cell_type": "code",
   "execution_count": 44,
   "id": "a495f282-1cd3-49f3-b176-5183f465c7c5",
   "metadata": {},
   "outputs": [
    {
     "name": "stdout",
     "output_type": "stream",
     "text": [
      "  Customer type monthname  customer_cnt  cust_rank\n",
      "0        Member  February           163          1\n",
      "1        Normal   January           180          1\n",
      "2        Normal     March           179          1\n",
      "3        Normal  February           140          2\n",
      "4        Member   January           172          2\n",
      "5        Member     March           166          2\n"
     ]
    }
   ],
   "source": [
    "#22.\tIdentify the customer type with the highest purchase frequency.\n",
    "\n",
    "Q1 = \"\"\"SELECT `Customer type`, monthname, customer_cnt, cust_rank\n",
    "FROM (SELECT `Customer type`, monthname, COUNT(*) AS customer_cnt,\n",
    "RANK() OVER (PARTITION BY monthname ORDER BY COUNT(*) DESC) AS cust_rank\n",
    "FROM amazon GROUP BY `Customer type` , monthname) AS cust_freq order by cust_rank\"\"\"\n",
    "cur.execute(Q1)\n",
    "print(pd.read_sql(Q1,conn))"
   ]
  },
  {
   "cell_type": "code",
   "execution_count": 45,
   "id": "b83e26f3-4e56-46bb-9d8d-cef40d57b9d4",
   "metadata": {},
   "outputs": [
    {
     "name": "stdout",
     "output_type": "stream",
     "text": [
      "   Gender  gend_purchase_freq\n",
      "0  Female                 501\n",
      "1    Male                 499\n",
      "\n",
      "   Gender  gend_purchase_Value\n",
      "0  Female           167882.925\n",
      "1    Male           155083.824\n"
     ]
    }
   ],
   "source": [
    "#23.\tDetermine the predominant gender among customers.\n",
    "\n",
    "Q1 = \"SELECT Gender, count(*) as gend_purchase_freq from amazon group by Gender\"\n",
    "cur.execute(Q1)\n",
    "print(pd.read_sql(Q1,conn))\n",
    "print()\n",
    "Q2 = \"SELECT Gender, sum(Total) as gend_purchase_Value from amazon group by Gender\"\n",
    "cur.execute(Q2)\n",
    "print(pd.read_sql(Q2,conn))"
   ]
  },
  {
   "cell_type": "code",
   "execution_count": 46,
   "id": "4bc5ec62-048f-464e-a7b1-402a6965f40b",
   "metadata": {},
   "outputs": [
    {
     "data": {
      "text/html": [
       "<div>\n",
       "<style scoped>\n",
       "    .dataframe tbody tr th:only-of-type {\n",
       "        vertical-align: middle;\n",
       "    }\n",
       "\n",
       "    .dataframe tbody tr th {\n",
       "        vertical-align: top;\n",
       "    }\n",
       "\n",
       "    .dataframe thead th {\n",
       "        text-align: right;\n",
       "    }\n",
       "</style>\n",
       "<table border=\"1\" class=\"dataframe\">\n",
       "  <thead>\n",
       "    <tr style=\"text-align: right;\">\n",
       "      <th></th>\n",
       "      <th>Branch</th>\n",
       "      <th>Gender</th>\n",
       "      <th>gender_count</th>\n",
       "      <th>gender_rank</th>\n",
       "    </tr>\n",
       "  </thead>\n",
       "  <tbody>\n",
       "    <tr>\n",
       "      <th>0</th>\n",
       "      <td>A</td>\n",
       "      <td>Male</td>\n",
       "      <td>179</td>\n",
       "      <td>1</td>\n",
       "    </tr>\n",
       "    <tr>\n",
       "      <th>1</th>\n",
       "      <td>B</td>\n",
       "      <td>Male</td>\n",
       "      <td>170</td>\n",
       "      <td>1</td>\n",
       "    </tr>\n",
       "    <tr>\n",
       "      <th>2</th>\n",
       "      <td>C</td>\n",
       "      <td>Female</td>\n",
       "      <td>178</td>\n",
       "      <td>1</td>\n",
       "    </tr>\n",
       "    <tr>\n",
       "      <th>3</th>\n",
       "      <td>A</td>\n",
       "      <td>Female</td>\n",
       "      <td>161</td>\n",
       "      <td>2</td>\n",
       "    </tr>\n",
       "    <tr>\n",
       "      <th>4</th>\n",
       "      <td>B</td>\n",
       "      <td>Female</td>\n",
       "      <td>162</td>\n",
       "      <td>2</td>\n",
       "    </tr>\n",
       "    <tr>\n",
       "      <th>5</th>\n",
       "      <td>C</td>\n",
       "      <td>Male</td>\n",
       "      <td>150</td>\n",
       "      <td>2</td>\n",
       "    </tr>\n",
       "  </tbody>\n",
       "</table>\n",
       "</div>"
      ],
      "text/plain": [
       "  Branch  Gender  gender_count  gender_rank\n",
       "0      A    Male           179            1\n",
       "1      B    Male           170            1\n",
       "2      C  Female           178            1\n",
       "3      A  Female           161            2\n",
       "4      B  Female           162            2\n",
       "5      C    Male           150            2"
      ]
     },
     "execution_count": 46,
     "metadata": {},
     "output_type": "execute_result"
    }
   ],
   "source": [
    "#24.\tExamine the distribution of genders within each branch.\n",
    "Q1 = \"\"\"SELECT Branch, Gender, gender_count, gender_rank\n",
    "FROM (SELECT Branch, Gender, COUNT(*) AS gender_count,\n",
    "RANK() OVER (PARTITION BY Branch ORDER BY COUNT(*) DESC) AS gender_rank\n",
    "FROM amazon GROUP BY Branch, Gender) AS gender_dist order by gender_rank\"\"\"\n",
    "cur.execute(Q1)\n",
    "pd.read_sql(Q1,conn)"
   ]
  },
  {
   "cell_type": "code",
   "execution_count": 47,
   "id": "9b1f9fa9-5025-44fe-957d-22b76c046d0d",
   "metadata": {},
   "outputs": [
    {
     "data": {
      "text/html": [
       "<div>\n",
       "<style scoped>\n",
       "    .dataframe tbody tr th:only-of-type {\n",
       "        vertical-align: middle;\n",
       "    }\n",
       "\n",
       "    .dataframe tbody tr th {\n",
       "        vertical-align: top;\n",
       "    }\n",
       "\n",
       "    .dataframe thead th {\n",
       "        text-align: right;\n",
       "    }\n",
       "</style>\n",
       "<table border=\"1\" class=\"dataframe\">\n",
       "  <thead>\n",
       "    <tr style=\"text-align: right;\">\n",
       "      <th></th>\n",
       "      <th>Branch</th>\n",
       "      <th>timeofday</th>\n",
       "      <th>avg_rating</th>\n",
       "    </tr>\n",
       "  </thead>\n",
       "  <tbody>\n",
       "    <tr>\n",
       "      <th>0</th>\n",
       "      <td>A</td>\n",
       "      <td>18</td>\n",
       "      <td>7.318182</td>\n",
       "    </tr>\n",
       "    <tr>\n",
       "      <th>1</th>\n",
       "      <td>B</td>\n",
       "      <td>12</td>\n",
       "      <td>7.396000</td>\n",
       "    </tr>\n",
       "    <tr>\n",
       "      <th>2</th>\n",
       "      <td>C</td>\n",
       "      <td>12</td>\n",
       "      <td>7.367742</td>\n",
       "    </tr>\n",
       "  </tbody>\n",
       "</table>\n",
       "</div>"
      ],
      "text/plain": [
       "  Branch  timeofday  avg_rating\n",
       "0      A         18    7.318182\n",
       "1      B         12    7.396000\n",
       "2      C         12    7.367742"
      ]
     },
     "execution_count": 47,
     "metadata": {},
     "output_type": "execute_result"
    }
   ],
   "source": [
    "#25.\tIdentify the time of day when customers provide the most ratings.\n",
    "Q1 = \"\"\"SELECT Branch, timeofday, avg_rating\n",
    "FROM (\n",
    "    SELECT Branch, timeofday, AVG(Rating) AS avg_rating,\n",
    "    RANK() OVER (PARTITION BY Branch ORDER BY AVG(Rating) DESC) AS rating_rank\n",
    "    FROM amazon\n",
    "    GROUP BY Branch, timeofday\n",
    ") AS rating_distribution WHERE rating_rank = 1\"\"\"\n",
    "cur.execute(Q1)\n",
    "pd.read_sql(Q1,conn)"
   ]
  },
  {
   "cell_type": "code",
   "execution_count": 48,
   "id": "4c29677c-b4cd-4c98-aea8-166e94416051",
   "metadata": {},
   "outputs": [
    {
     "data": {
      "text/html": [
       "<div>\n",
       "<style scoped>\n",
       "    .dataframe tbody tr th:only-of-type {\n",
       "        vertical-align: middle;\n",
       "    }\n",
       "\n",
       "    .dataframe tbody tr th {\n",
       "        vertical-align: top;\n",
       "    }\n",
       "\n",
       "    .dataframe thead th {\n",
       "        text-align: right;\n",
       "    }\n",
       "</style>\n",
       "<table border=\"1\" class=\"dataframe\">\n",
       "  <thead>\n",
       "    <tr style=\"text-align: right;\">\n",
       "      <th></th>\n",
       "      <th>Branch</th>\n",
       "      <th>dayname</th>\n",
       "      <th>avg_rating</th>\n",
       "    </tr>\n",
       "  </thead>\n",
       "  <tbody>\n",
       "    <tr>\n",
       "      <th>0</th>\n",
       "      <td>A</td>\n",
       "      <td>Friday</td>\n",
       "      <td>7.312000</td>\n",
       "    </tr>\n",
       "    <tr>\n",
       "      <th>1</th>\n",
       "      <td>B</td>\n",
       "      <td>Monday</td>\n",
       "      <td>7.335897</td>\n",
       "    </tr>\n",
       "    <tr>\n",
       "      <th>2</th>\n",
       "      <td>C</td>\n",
       "      <td>Friday</td>\n",
       "      <td>7.278947</td>\n",
       "    </tr>\n",
       "  </tbody>\n",
       "</table>\n",
       "</div>"
      ],
      "text/plain": [
       "  Branch dayname  avg_rating\n",
       "0      A  Friday    7.312000\n",
       "1      B  Monday    7.335897\n",
       "2      C  Friday    7.278947"
      ]
     },
     "execution_count": 48,
     "metadata": {},
     "output_type": "execute_result"
    }
   ],
   "source": [
    "#26.\tDetermine the time of day with the highest customer ratings for each branch.\n",
    "Q1 = \"\"\"SELECT Branch, dayname, avg_rating\n",
    "FROM (\n",
    "    SELECT Branch, dayname, AVG(Rating) AS avg_rating,\n",
    "           dense_RANK() OVER (PARTITION BY Branch ORDER BY AVG(Rating) DESC) AS rating_rank\n",
    "    FROM amazon\n",
    "    GROUP BY Branch, dayname\n",
    ") AS rating_distribution WHERE rating_rank = 1\"\"\"\n",
    "cur.execute(Q1)\n",
    "pd.read_sql(Q1,conn)"
   ]
  },
  {
   "cell_type": "code",
   "execution_count": 50,
   "id": "28b0c0dd-afff-44be-8e5c-bfa76c7e2042",
   "metadata": {},
   "outputs": [
    {
     "data": {
      "text/html": [
       "<div>\n",
       "<style scoped>\n",
       "    .dataframe tbody tr th:only-of-type {\n",
       "        vertical-align: middle;\n",
       "    }\n",
       "\n",
       "    .dataframe tbody tr th {\n",
       "        vertical-align: top;\n",
       "    }\n",
       "\n",
       "    .dataframe thead th {\n",
       "        text-align: right;\n",
       "    }\n",
       "</style>\n",
       "<table border=\"1\" class=\"dataframe\">\n",
       "  <thead>\n",
       "    <tr style=\"text-align: right;\">\n",
       "      <th></th>\n",
       "      <th>dayname</th>\n",
       "      <th>avg_rating</th>\n",
       "      <th>rating_rank</th>\n",
       "    </tr>\n",
       "  </thead>\n",
       "  <tbody>\n",
       "    <tr>\n",
       "      <th>0</th>\n",
       "      <td>Monday</td>\n",
       "      <td>7.1536</td>\n",
       "      <td>1</td>\n",
       "    </tr>\n",
       "  </tbody>\n",
       "</table>\n",
       "</div>"
      ],
      "text/plain": [
       "  dayname  avg_rating  rating_rank\n",
       "0  Monday      7.1536            1"
      ]
     },
     "execution_count": 50,
     "metadata": {},
     "output_type": "execute_result"
    }
   ],
   "source": [
    "#27.\tIdentify the day of the week with the highest average ratings.\n",
    "Q1 = \"\"\"SELECT dayname, avg_rating, rating_rank\n",
    "FROM (\n",
    "    SELECT dayname, AVG(Rating) AS avg_rating,\n",
    "    RANK() OVER (ORDER BY AVG(Rating) DESC) AS rating_rank\n",
    "    FROM amazon\n",
    "    GROUP BY dayname\n",
    ") AS rating_distribution where rating_rank=1\"\"\"\n",
    "cur.execute(Q1)\n",
    "pd.read_sql(Q1,conn)"
   ]
  },
  {
   "cell_type": "code",
   "execution_count": 61,
   "id": "e48915f8-6593-45db-8fb1-5d919abf84d8",
   "metadata": {},
   "outputs": [
    {
     "data": {
      "text/html": [
       "<div>\n",
       "<style scoped>\n",
       "    .dataframe tbody tr th:only-of-type {\n",
       "        vertical-align: middle;\n",
       "    }\n",
       "\n",
       "    .dataframe tbody tr th {\n",
       "        vertical-align: top;\n",
       "    }\n",
       "\n",
       "    .dataframe thead th {\n",
       "        text-align: right;\n",
       "    }\n",
       "</style>\n",
       "<table border=\"1\" class=\"dataframe\">\n",
       "  <thead>\n",
       "    <tr style=\"text-align: right;\">\n",
       "      <th></th>\n",
       "      <th>Branch</th>\n",
       "      <th>dayname</th>\n",
       "      <th>avg_rating</th>\n",
       "      <th>rating_rank</th>\n",
       "    </tr>\n",
       "  </thead>\n",
       "  <tbody>\n",
       "    <tr>\n",
       "      <th>0</th>\n",
       "      <td>A</td>\n",
       "      <td>Friday</td>\n",
       "      <td>7.312000</td>\n",
       "      <td>1</td>\n",
       "    </tr>\n",
       "    <tr>\n",
       "      <th>1</th>\n",
       "      <td>B</td>\n",
       "      <td>Monday</td>\n",
       "      <td>7.335897</td>\n",
       "      <td>1</td>\n",
       "    </tr>\n",
       "    <tr>\n",
       "      <th>2</th>\n",
       "      <td>C</td>\n",
       "      <td>Friday</td>\n",
       "      <td>7.278947</td>\n",
       "      <td>1</td>\n",
       "    </tr>\n",
       "  </tbody>\n",
       "</table>\n",
       "</div>"
      ],
      "text/plain": [
       "  Branch dayname  avg_rating  rating_rank\n",
       "0      A  Friday    7.312000            1\n",
       "1      B  Monday    7.335897            1\n",
       "2      C  Friday    7.278947            1"
      ]
     },
     "execution_count": 61,
     "metadata": {},
     "output_type": "execute_result"
    }
   ],
   "source": [
    "#28.\tDetermine the day of the week with the highest average ratings for each branch.\n",
    "Q1 = \"\"\"SELECT Branch, dayname, avg_rating, rating_rank\n",
    "FROM (\n",
    "    SELECT Branch, dayname, AVG(Rating) AS avg_rating,\n",
    "          DENSE_RANK() OVER (partition by Branch ORDER BY AVG(Rating) DESC) AS rating_rank\n",
    "    FROM amazon\n",
    "    GROUP BY Branch, dayname\n",
    ") AS rating_distribution WHERE rating_rank=1\"\"\"\n",
    "cur.execute(Q1)\n",
    "pd.read_sql(Q1,conn)"
   ]
  },
  {
   "cell_type": "code",
   "execution_count": 73,
   "id": "4b2030ae-ce0e-46db-9b32-9c5de36c7ba8",
   "metadata": {},
   "outputs": [
    {
     "name": "stdout",
     "output_type": "stream",
     "text": [
      "             Product line  AVG(Rating)\n",
      "0      Food and beverages     7.113218\n",
      "1     Fashion accessories     7.029213\n",
      "2       Health and beauty     7.003289\n",
      "3  Electronic accessories     6.924706\n",
      "4       Sports and travel     6.916265\n",
      "5      Home and lifestyle     6.837500\n",
      "\n",
      "             Product line  order_cnt\n",
      "0     Fashion accessories        178\n",
      "1      Food and beverages        174\n",
      "2  Electronic accessories        170\n",
      "3       Sports and travel        166\n",
      "4      Home and lifestyle        160\n",
      "5       Health and beauty        152\n"
     ]
    }
   ],
   "source": [
    "# 1. PRODUCT ANALAYSIS\n",
    "Q1 = \"select `Product line`, AVG(Rating) FROM AMAZON GROUP BY `Product line` order by AVG(Rating) desc\"\n",
    "cur.execute(Q1)\n",
    "print(pd.read_sql(Q1,conn))\n",
    "print()\n",
    "Q1 = \"SELECT   `Product line`,  count(*) as order_cnt from amazon group by `Product line` order by order_cnt desc\"\n",
    "cur.execute(Q1)\n",
    "print(pd.read_sql(Q1,conn))"
   ]
  },
  {
   "cell_type": "code",
   "execution_count": 82,
   "id": "a9b8e87f-c219-4a9f-b6b3-13e59cd76c81",
   "metadata": {},
   "outputs": [
    {
     "name": "stdout",
     "output_type": "stream",
     "text": [
      "              Product line  Gender  prod_cnt\n",
      "0   Electronic accessories  Female        84\n",
      "1   Electronic accessories    Male        86\n",
      "2      Fashion accessories    Male        82\n",
      "3      Fashion accessories  Female        96\n",
      "4       Food and beverages    Male        84\n",
      "5       Food and beverages  Female        90\n",
      "6        Health and beauty  Female        64\n",
      "7        Health and beauty    Male        88\n",
      "8       Home and lifestyle  Female        79\n",
      "9       Home and lifestyle    Male        81\n",
      "10       Sports and travel    Male        78\n",
      "11       Sports and travel  Female        88\n"
     ]
    }
   ],
   "source": [
    "Q1 = \"SELECT `Product line`, Gender, count(*) as prod_cnt from amazon group by `Product line`, Gender Order by  `Product line`,  prod_cnt\"\n",
    "\n",
    "cur.execute(Q1)\n",
    "print(pd.read_sql(Q1,conn))"
   ]
  },
  {
   "cell_type": "code",
   "execution_count": 103,
   "id": "1b3362c7-1301-428e-8213-4e770a179132",
   "metadata": {},
   "outputs": [
    {
     "name": "stdout",
     "output_type": "stream",
     "text": [
      "    timeofday  timeslots  sum(prod_cnt) over(partition by timeslots)\n",
      "0          10          1                                       280.0\n",
      "1          11          1                                       280.0\n",
      "2          12          1                                       280.0\n",
      "3          13          2                                       288.0\n",
      "4          14          2                                       288.0\n",
      "5          15          2                                       288.0\n",
      "6          16          3                                       244.0\n",
      "7          17          3                                       244.0\n",
      "8          18          3                                       244.0\n",
      "9          19          4                                       188.0\n",
      "10         20          4                                       188.0\n"
     ]
    }
   ],
   "source": [
    "Q1 = \"\"\"with cte1 as (select timeofday, count(*) as prod_cnt from amazon group by timeofday order by timeofday),\n",
    "cte2 as(SELECT timeofday, prod_cnt,\n",
    "NTILE(4) OVER(order by timeofday) as timeslots from cte1)\n",
    "SELECT timeofday, timeslots, \n",
    "sum(prod_cnt) over(partition by timeslots) from cte2\"\"\"\n",
    "\n",
    "cur.execute(Q1)\n",
    "print(pd.read_sql(Q1,conn))"
   ]
  },
  {
   "cell_type": "code",
   "execution_count": 156,
   "id": "860a3947-7933-4486-a5fb-879dc7183f21",
   "metadata": {},
   "outputs": [
    {
     "name": "stdout",
     "output_type": "stream",
     "text": [
      "             Product line  Gross_Revenue\n",
      "0      Food and beverages      2673.5640\n",
      "1       Sports and travel      2624.8965\n",
      "2  Electronic accessories      2587.5015\n",
      "3     Fashion accessories      2585.9950\n",
      "4      Home and lifestyle      2564.8530\n",
      "5       Health and beauty      2342.5590\n"
     ]
    }
   ],
   "source": [
    "Q1 = \"SELECT `Product line`, sum(`gross income`) as Gross_Revenue from amazon group by `Product line` order by Gross_Revenue desc\"\n",
    "\n",
    "cur.execute(Q1)\n",
    "print(pd.read_sql(Q1,conn))"
   ]
  },
  {
   "cell_type": "code",
   "execution_count": 157,
   "id": "33601d5b-597f-412f-9ccd-f77033c13c07",
   "metadata": {},
   "outputs": [
    {
     "name": "stdout",
     "output_type": "stream",
     "text": [
      "        City   Total_Sale\n",
      "0  Naypyitaw  110568.7065\n",
      "1     Yangon  106200.3705\n",
      "2   Mandalay  106197.6720\n"
     ]
    }
   ],
   "source": [
    "Q1 = \"SELECT City, sum(Total) as Total_Sale from amazon group by City order by Total_Sale desc\"\n",
    "cur.execute(Q1)\n",
    "print(pd.read_sql(Q1,conn))"
   ]
  },
  {
   "cell_type": "code",
   "execution_count": 138,
   "id": "1716a2db-7e6d-4870-9825-0c6cc699223a",
   "metadata": {},
   "outputs": [
    {
     "name": "stdout",
     "output_type": "stream",
     "text": [
      "   Gender  Total_Sale\n",
      "0  Female  167882.925\n",
      "1    Male  155083.824\n"
     ]
    }
   ],
   "source": [
    "Q1 = \"SELECT Gender, sum(Total) as Total_Sale from amazon group by Gender\"\n",
    "cur.execute(Q1)\n",
    "print(pd.read_sql(Q1,conn))"
   ]
  },
  {
   "cell_type": "code",
   "execution_count": 139,
   "id": "5b077d1d-7551-4233-9c75-6daab96dcb5b",
   "metadata": {},
   "outputs": [
    {
     "name": "stdout",
     "output_type": "stream",
     "text": [
      "       Payment  Total_Sale\n",
      "0      Ewallet  109993.107\n",
      "1         Cash  112206.570\n",
      "2  Credit card  100767.072\n"
     ]
    }
   ],
   "source": [
    "Q1 = \"SELECT Payment, sum(Total) as Total_Sale from amazon group by Payment \"\n",
    "cur.execute(Q1)\n",
    "print(pd.read_sql(Q1,conn))"
   ]
  },
  {
   "cell_type": "code",
   "execution_count": 162,
   "id": "5376ae5c-ddb0-41b2-9bfb-4760836b59e3",
   "metadata": {},
   "outputs": [
    {
     "name": "stdout",
     "output_type": "stream",
     "text": [
      "     dayname  weekdayno  Total_Sale\n",
      "0   Saturday          5  56120.8095\n",
      "1    Tuesday          1  51482.2455\n",
      "2   Thursday          3  45349.2480\n",
      "3     Sunday          6  44457.8925\n",
      "4     Friday          4  43926.3405\n",
      "5  Wednesday          2  43731.1350\n",
      "6     Monday          0  37899.0780\n"
     ]
    }
   ],
   "source": [
    "Q1 = \"SELECT dayname, weekdayno, sum(Total) as Total_Sale from amazon group by dayname, weekdayno order by sum(Total) desc\"\n",
    "cur.execute(Q1)\n",
    "df = pd.read_sql(Q1,conn)\n",
    "print(df)"
   ]
  },
  {
   "cell_type": "code",
   "execution_count": 154,
   "id": "37bff993-eb29-4f4b-9860-904ab24630bb",
   "metadata": {},
   "outputs": [
    {
     "name": "stdout",
     "output_type": "stream",
     "text": [
      "    timeofday  sum(Total)\n",
      "0          19  39699.5130\n",
      "1          13  34723.2270\n",
      "2          10  31421.4810\n",
      "3          15  31179.5085\n",
      "4          14  30828.3990\n",
      "5          11  30377.3295\n",
      "6          12  26065.8825\n",
      "7          18  26030.3400\n",
      "8          16  25226.3235\n",
      "9          17  24445.2180\n",
      "10         20  22969.5270\n"
     ]
    }
   ],
   "source": [
    "Q1 = \"SELECT timeofday, sum(Total) from amazon group by timeofday order by sum(Total) desc\"\n",
    "cur.execute(Q1)\n",
    "df = pd.read_sql(Q1,conn)\n",
    "print(df)"
   ]
  },
  {
   "cell_type": "code",
   "execution_count": 7,
   "id": "d01829cb-ba10-4e82-b9e2-bdffe53938d0",
   "metadata": {},
   "outputs": [
    {
     "name": "stdout",
     "output_type": "stream",
     "text": [
      "  monthname  sum(Total)\n",
      "0   January  116291.868\n",
      "1     March  109455.507\n",
      "2  February   97219.374\n"
     ]
    }
   ],
   "source": [
    "Q1 = \"SELECT monthname, sum(Total) from amazon group by monthname order by sum(Total) desc\"\n",
    "cur.execute(Q1)\n",
    "df = pd.read_sql(Q1,conn)\n",
    "print(df)"
   ]
  },
  {
   "cell_type": "code",
   "execution_count": 17,
   "id": "6c15f1b0-af37-45e2-aad5-ad7de297a661",
   "metadata": {},
   "outputs": [
    {
     "name": "stdout",
     "output_type": "stream",
     "text": [
      "                  Product    Revenue\n",
      "0      Food and beverages  2673.5640\n",
      "1       Sports and travel  2624.8965\n",
      "2  Electronic accessories  2587.5015\n",
      "3     Fashion accessories  2585.9950\n",
      "4      Home and lifestyle  2564.8530\n",
      "5       Health and beauty  2342.5590\n"
     ]
    }
   ],
   "source": [
    "Q1 = \"SELECT `Product line` as Product, sum(`gross income`) as Revenue from amazon group by `Product line` order by sum(`gross income`) desc\"\n",
    "cur.execute(Q1)\n",
    "df = pd.read_sql(Q1,conn)\n",
    "print(df)"
   ]
  },
  {
   "cell_type": "code",
   "execution_count": 20,
   "id": "46eba364-a5b0-4911-8ec5-f6afa9ff87c1",
   "metadata": {},
   "outputs": [
    {
     "data": {
      "image/png": "[encoded data removed]",
      "text/plain": [
       "<Figure size 640x480 with 1 Axes>"
      ]
     },
     "metadata": {},
     "output_type": "display_data"
    }
   ],
   "source": [
    "import pandas as pd\n",
    "import matplotlib.pyplot as plt\n",
    "cur.execute(Q1)\n",
    "print(pd.read_sql(Q1,conn))\n",
    "plt.plot(df[\"Product\"], df[\"Revenue\"], marker = 'H', color = 'darkblue', ms = 10, lw = 5)\n",
    "plt.xlabel(\"Product Line\")\n",
    "plt.ylabel(\"Revenue Generated\")\n",
    "plt.title(\"Product wise Revenue generated\")\n",
    "plt.xticks(rotation=8) \n",
    "plt.show()"
   ]
  },
  {
   "cell_type": "code",
   "execution_count": 27,
   "id": "e406505f-6573-4a22-82db-8bbfae6f4d9b",
   "metadata": {},
   "outputs": [
    {
     "name": "stdout",
     "output_type": "stream",
     "text": [
      "          City  Bill_Amount\n",
      "0       Yangon     548.9715\n",
      "1    Naypyitaw      80.2200\n",
      "2       Yangon     340.5255\n",
      "3       Yangon     489.0480\n",
      "4       Yangon     634.3785\n",
      "..         ...          ...\n",
      "995  Naypyitaw      42.3675\n",
      "996   Mandalay    1022.4900\n",
      "997     Yangon      33.4320\n",
      "998     Yangon      69.1110\n",
      "999     Yangon     649.2990\n",
      "\n",
      "[1000 rows x 2 columns]\n"
     ]
    }
   ],
   "source": [
    "Q1 = \"SELECT City, Total as Bill_Amount from amazon\"\n",
    "cur.execute(Q1)\n",
    "df = pd.read_sql(Q1,conn)\n",
    "print(df)"
   ]
  },
  {
   "cell_type": "code",
   "execution_count": 29,
   "id": "e33c6206-9ced-4454-9885-2477a4b1a859",
   "metadata": {},
   "outputs": [
    {
     "data": {
      "text/plain": [
       "<Axes: xlabel='City', ylabel='Bill_Amount'>"
      ]
     },
     "execution_count": 29,
     "metadata": {},
     "output_type": "execute_result"
    },
    {
     "data": {
      "image/png": "[encoded data removed]",
      "text/plain": [
       "<Figure size 640x480 with 1 Axes>"
      ]
     },
     "metadata": {},
     "output_type": "display_data"
    }
   ],
   "source": [
    "import seaborn as sns\n",
    "sns.boxplot(x=df[\"City\"], y=df[\"Bill_Amount\"], color=\"b\")\n",
    "plt.title(\"Bill Amount City wise Comparision\")"
   ]
  },
  {
   "cell_type": "code",
   "execution_count": 31,
   "id": "92ead4e6-6bde-4f44-896e-0506cff689cc",
   "metadata": {},
   "outputs": [
    {
     "name": "stdout",
     "output_type": "stream",
     "text": [
      "  monthname  Totla_Bill_Amount\n",
      "0   January         116291.868\n",
      "1     March         109455.507\n",
      "2  February          97219.374\n"
     ]
    }
   ],
   "source": [
    "Q1 = \"SELECT monthname, sum(Total) as Totla_Bill_Amount from amazon group by monthname\"\n",
    "cur.execute(Q1)\n",
    "df = pd.read_sql(Q1,conn)\n",
    "print(df)"
   ]
  },
  {
   "cell_type": "code",
   "execution_count": 54,
   "id": "a28d9485-b0f0-4cf5-88bb-2a2bac7ba5bc",
   "metadata": {},
   "outputs": [
    {
     "name": "stdout",
     "output_type": "stream",
     "text": [
      "  Type_of_Customer  Total_Purchase_Value  customer_wise_revenue\n",
      "0           Normal            158743.305               7559.205\n",
      "1           Member            164223.444               7820.164\n"
     ]
    }
   ],
   "source": [
    "Q1 = \"\"\"SELECT `Customer type` as Type_of_Customer, Sum(Total) as Total_Purchase_Value, sum(`gross income`) as customer_wise_revenue from amazon group by `Customer type`\n",
    "order by customer_wise_revenue \"\"\"\n",
    "cur.execute(Q1)\n",
    "df = pd.read_sql(Q1,conn)\n",
    "print(df)"
   ]
  },
  {
   "cell_type": "code",
   "execution_count": 56,
   "id": "1b189adb-d1ae-4fda-81b1-9296dabc8836",
   "metadata": {},
   "outputs": [
    {
     "data": {
      "text/plain": [
       "<Axes: xlabel='Type_of_Customer', ylabel='customer_wise_revenue'>"
      ]
     },
     "execution_count": 56,
     "metadata": {},
     "output_type": "execute_result"
    },
    {
     "data": {
      "image/png": "[encoded data removed]",
      "text/plain": [
       "<Figure size 640x480 with 1 Axes>"
      ]
     },
     "metadata": {},
     "output_type": "display_data"
    }
   ],
   "source": [
    "sns.barplot(x=df[\"Type_of_Customer\"], y=df[\"customer_wise_revenue\"], color=\"b\")"
   ]
  },
  {
   "cell_type": "code",
   "execution_count": 49,
   "id": "7c1f5352-edd9-4465-bbdd-f0263b5305fc",
   "metadata": {},
   "outputs": [
    {
     "name": "stdout",
     "output_type": "stream",
     "text": [
      "       Payment  Total_Purchase_Value  Payment_wise_revenue  Tax5_percent\n",
      "0      Ewallet            109993.107              5237.767      5237.767\n",
      "1         Cash            112206.570              5343.170      5343.170\n",
      "2  Credit card            100767.072              4798.432      4798.432\n"
     ]
    }
   ],
   "source": [
    "Q1 = \"\"\"SELECT Payment, Sum(Total) as Total_Purchase_Value, sum(`gross income`) as Payment_wise_revenue, \n",
    "sum(`Tax 5%`) as Tax5_percent from amazon group by Payment\"\"\"\n",
    "\n",
    "cur.execute(Q1)\n",
    "df = pd.read_sql(Q1,conn)\n",
    "print(df)"
   ]
  },
  {
   "cell_type": "code",
   "execution_count": 50,
   "id": "39b8ed8d-b6cc-4eb3-b091-64cebf89fcc0",
   "metadata": {},
   "outputs": [
    {
     "data": {
      "text/plain": [
       "<Axes: xlabel='Payment', ylabel='Tax5_percent'>"
      ]
     },
     "execution_count": 50,
     "metadata": {},
     "output_type": "execute_result"
    },
    {
     "data": {
      "image/png": "[encoded data removed]",
      "text/plain": [
       "<Figure size 1500x600 with 3 Axes>"
      ]
     },
     "metadata": {},
     "output_type": "display_data"
    }
   ],
   "source": [
    "import seaborn as sns\n",
    "import matplotlib.pyplot as plt\n",
    "\n",
    "plt.figure(figsize = (15,6))\n",
    "plt.subplot(1,3,1)\n",
    "sns.barplot(x=df[\"Payment\"], y=df[\"Total_Purchase_Value\"], color=\"r\")\n",
    "plt.subplot(1,3,2)\n",
    "sns.barplot(x=df[\"Payment\"], y=df[\"Payment_wise_revenue\"], color=\"g\")\n",
    "plt.subplot(1,3,3)\n",
    "sns.barplot(x=df[\"Payment\"], y=df[\"Tax5_percent\"], color=\"b\")\n"
   ]
  },
  {
   "cell_type": "code",
   "execution_count": 57,
   "id": "37c246a1-fc7c-4098-b911-4e2b858ab35a",
   "metadata": {},
   "outputs": [
    {
     "name": "stdout",
     "output_type": "stream",
     "text": [
      "   Gender  Total_Purchase_Value  Payment_wise_revenue  Tax5_percent\n",
      "0  Female            167882.925              7994.425      7994.425\n",
      "1    Male            155083.824              7384.944      7384.944\n"
     ]
    }
   ],
   "source": [
    "Q1 = \"\"\"SELECT Gender, Sum(Total) as Total_Purchase_Value, sum(`gross income`) as Payment_wise_revenue, \n",
    "sum(`Tax 5%`) as Tax5_percent from amazon group by Gender\"\"\"\n",
    "\n",
    "cur.execute(Q1)\n",
    "df = pd.read_sql(Q1,conn)\n",
    "print(df)"
   ]
  },
  {
   "cell_type": "code",
   "execution_count": 59,
   "id": "69d1c85e-c103-4e40-96bd-9bc03682392e",
   "metadata": {},
   "outputs": [
    {
     "data": {
      "text/plain": [
       "<Axes: xlabel='Gender', ylabel='Tax5_percent'>"
      ]
     },
     "execution_count": 59,
     "metadata": {},
     "output_type": "execute_result"
    },
    {
     "data": {
      "image/png": "[encoded data removed]",
      "text/plain": [
       "<Figure size 1200x600 with 3 Axes>"
      ]
     },
     "metadata": {},
     "output_type": "display_data"
    }
   ],
   "source": [
    "import seaborn as sns\n",
    "import matplotlib.pyplot as plt\n",
    "\n",
    "plt.figure(figsize = (12,6))\n",
    "plt.subplot(1,3,1)\n",
    "sns.barplot(x=df[\"Gender\"], y=df[\"Total_Purchase_Value\"], color=\"r\")\n",
    "plt.subplot(1,3,2)\n",
    "sns.barplot(x=df[\"Gender\"], y=df[\"Payment_wise_revenue\"], color=\"g\")\n",
    "plt.subplot(1,3,3)\n",
    "sns.barplot(x=df[\"Gender\"], y=df[\"Tax5_percent\"], color=\"b\")"
   ]
  },
  {
   "cell_type": "code",
   "execution_count": 69,
   "id": "75b949a2-b6bd-47b8-ac42-dafe1d932c43",
   "metadata": {},
   "outputs": [
    {
     "name": "stdout",
     "output_type": "stream",
     "text": [
      "    Gender    dayname  weekdayno  order_count\n",
      "0   Female     Monday          0           68\n",
      "1   Female    Tuesday          1          155\n",
      "2   Female  Wednesday          2          219\n",
      "3   Female   Thursday          3          282\n",
      "4   Female     Friday          4          347\n",
      "5   Female   Saturday          5          434\n",
      "6   Female     Sunday          6          501\n",
      "7     Male     Monday          0           57\n",
      "8     Male    Tuesday          1          128\n",
      "9     Male  Wednesday          2          207\n",
      "10    Male   Thursday          3          282\n",
      "11    Male     Friday          4          356\n",
      "12    Male   Saturday          5          433\n",
      "13    Male     Sunday          6          499\n"
     ]
    }
   ],
   "source": [
    "Q1 = \"\"\"SELECT distinct(Gender), dayname, weekdayno, count(*) over(partition by Gender order by weekdayno) as order_count from amazon \"\"\"\n",
    "\n",
    "cur.execute(Q1)\n",
    "df = pd.read_sql(Q1,conn)\n",
    "print(df)"
   ]
  },
  {
   "cell_type": "code",
   "execution_count": 76,
   "id": "610f021d-b15a-4993-bfe9-15c6b90a9e66",
   "metadata": {},
   "outputs": [
    {
     "data": {
      "image/png": "[encoded data removed]",
      "text/plain": [
       "<Figure size 800x400 with 1 Axes>"
      ]
     },
     "metadata": {},
     "output_type": "display_data"
    }
   ],
   "source": [
    "plt.figure(figsize=(8, 4))\n",
    "sns.barplot(data=df, x='dayname', y='order_count', hue='Gender', palette='Set2')\n",
    "plt.title('order count by Gender and Week Day')\n",
    "plt.xlabel('Gender')\n",
    "plt.ylabel('Order Count')\n",
    "plt.legend(title='Gender')\n",
    "plt.xticks(rotation=5)  # Rotate x-axis labels for better readability\n",
    "plt.tight_layout()\n",
    "plt.show()"
   ]
  },
  {
   "cell_type": "code",
   "execution_count": 79,
   "id": "a64f2acc-8c64-4cfe-b0c9-2e43600f4fdc",
   "metadata": {},
   "outputs": [
    {
     "name": "stdout",
     "output_type": "stream",
     "text": [
      "    timeofday  order_count\n",
      "0          10          101\n",
      "1          11           90\n",
      "2          12           89\n",
      "3          13          103\n",
      "4          14           83\n",
      "5          15          102\n",
      "6          16           77\n",
      "7          17           74\n",
      "8          18           93\n",
      "9          19          113\n",
      "10         20           75\n"
     ]
    }
   ],
   "source": [
    "Q1 = \"\"\"SELECT distinct(timeofday), count(*) over(partition by timeofday) as order_count from amazon \"\"\"\n",
    "\n",
    "cur.execute(Q1)\n",
    "df = pd.read_sql(Q1,conn)\n",
    "print(df)"
   ]
  },
  {
   "cell_type": "code",
   "execution_count": 88,
   "id": "50e044d2-b66d-43a4-8977-183be8b8edde",
   "metadata": {},
   "outputs": [
    {
     "name": "stdout",
     "output_type": "stream",
     "text": [
      "    timeofday           timeslots  Purchase_Orders\n",
      "0          10  B/N 10Hrs to 12Hrs            280.0\n",
      "1          11  B/N 10Hrs to 12Hrs            280.0\n",
      "2          12  B/N 10Hrs to 12Hrs            280.0\n",
      "3          13  B/N 13Hrs to 15Hrs            288.0\n",
      "4          14  B/N 13Hrs to 15Hrs            288.0\n",
      "5          15  B/N 13Hrs to 15Hrs            288.0\n",
      "6          16  B/N 16Hrs to 18Hrs            244.0\n",
      "7          17  B/N 16Hrs to 18Hrs            244.0\n",
      "8          18  B/N 16Hrs to 18Hrs            244.0\n",
      "9          19  B/N 19Hrs to 20Hrs            188.0\n",
      "10         20  B/N 19Hrs to 20Hrs            188.0\n"
     ]
    }
   ],
   "source": [
    "Q1 = \"\"\"with cte1 as (select timeofday, count(*) as prod_cnt from amazon group by timeofday order by timeofday),\n",
    "cte2 as(SELECT timeofday, prod_cnt,\n",
    "NTILE(4) OVER(order by timeofday) as timeslots from cte1)\n",
    "SELECT timeofday, timeslots, \n",
    "sum(prod_cnt) over(partition by timeslots) as Purchase_Orders from cte2\"\"\"\n",
    "\n",
    "cur.execute(Q1)\n",
    "df = pd.read_sql(Q1,conn)\n",
    "dict = {1: 'B/N 10Hrs to 12Hrs', 2:'B/N 13Hrs to 15Hrs', 3:'B/N 16Hrs to 18Hrs', 4:'B/N 19Hrs to 20Hrs'}\n",
    "df['timeslots'] = df['timeslots'].replace(dict)\n",
    "\n",
    "print(df)"
   ]
  },
  {
   "cell_type": "code",
   "execution_count": 89,
   "id": "ef9181e9-e77b-4b0b-ae81-019c582bebde",
   "metadata": {},
   "outputs": [
    {
     "data": {
      "image/png": "[encoded data removed]",
      "text/plain": [
       "<Figure size 640x480 with 1 Axes>"
      ]
     },
     "metadata": {},
     "output_type": "display_data"
    }
   ],
   "source": [
    "plt.plot(df[\"timeslots\"], df[\"Purchase_Orders\"], marker = 'H', color = 'darkblue', ms = 10, lw = 5)\n",
    "plt.xlabel(\"Time B/N in Day\")\n",
    "plt.ylabel(\"Orders\")\n",
    "plt.title(\"Time wise Orders - Mood of Customer\")\n",
    "plt.xticks(rotation=8) \n",
    "plt.show()"
   ]
  },
  {
   "cell_type": "code",
   "execution_count": null,
   "id": "9acbbfd7-66a9-4297-8e45-c3edef2e4175",
   "metadata": {},
   "outputs": [],
   "source": []
  }
 ],
 "metadata": {
  "kernelspec": {
   "display_name": "Python 3 (ipykernel)",
   "language": "python",
   "name": "python3"
  },
  "language_info": {
   "codemirror_mode": {
    "name": "ipython",
    "version": 3
   },
   "file_extension": ".py",
   "mimetype": "text/x-python",
   "name": "python",
   "nbconvert_exporter": "python",
   "pygments_lexer": "ipython3",
   "version": "3.11.7"
  }
 },
 "nbformat": 4,
 "nbformat_minor": 5
}
